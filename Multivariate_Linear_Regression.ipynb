{
  "nbformat": 4,
  "nbformat_minor": 0,
  "metadata": {
    "colab": {
      "name": "Multivariate Linear Regression.ipynb",
      "provenance": [],
      "authorship_tag": "ABX9TyO4egNbHfr7XnVYYUEWEamY",
      "include_colab_link": true
    },
    "kernelspec": {
      "name": "python3",
      "display_name": "Python 3"
    }
  },
  "cells": [
    {
      "cell_type": "markdown",
      "metadata": {
        "id": "view-in-github",
        "colab_type": "text"
      },
      "source": [
        "<a href=\"https://colab.research.google.com/github/rajatenzyme/Beginning-of-Machine-Learning/blob/master/Multivariate_Linear_Regression.ipynb\" target=\"_parent\"><img src=\"https://colab.research.google.com/assets/colab-badge.svg\" alt=\"Open In Colab\"/></a>"
      ]
    },
    {
      "cell_type": "code",
      "metadata": {
        "id": "CVWIferEEMrV",
        "colab_type": "code",
        "colab": {}
      },
      "source": [
        "import numpy as np\n",
        "import matplotlib.pyplot as plt\n",
        "import pandas as pd\n",
        "from sklearn import linear_model\n",
        "%matplotlib inline\n",
        "import math\n",
        "from word2number import w2n"
      ],
      "execution_count": 0,
      "outputs": []
    },
    {
      "cell_type": "code",
      "metadata": {
        "id": "rJu2kjVvKzDT",
        "colab_type": "code",
        "colab": {
          "base_uri": "https://localhost:8080/",
          "height": 202
        },
        "outputId": "2c72395f-c3f6-486d-c869-2c6ef3dad5d4"
      },
      "source": [
        "!pip install word2number"
      ],
      "execution_count": 2,
      "outputs": [
        {
          "output_type": "stream",
          "text": [
            "Collecting word2number\n",
            "  Downloading https://files.pythonhosted.org/packages/4a/29/a31940c848521f0725f0df6b25dca8917f13a2025b0e8fcbe5d0457e45e6/word2number-1.1.zip\n",
            "Building wheels for collected packages: word2number\n",
            "  Building wheel for word2number (setup.py) ... \u001b[?25l\u001b[?25hdone\n",
            "  Created wheel for word2number: filename=word2number-1.1-cp36-none-any.whl size=5587 sha256=5d175f22518348e16de874c340b66663511b715b2f2b51a7f221b1aa20f5f965\n",
            "  Stored in directory: /root/.cache/pip/wheels/46/2f/53/5f5c1d275492f2fce1cdab9a9bb12d49286dead829a4078e0e\n",
            "Successfully built word2number\n",
            "Installing collected packages: word2number\n",
            "Successfully installed word2number-1.1\n"
          ],
          "name": "stdout"
        }
      ]
    },
    {
      "cell_type": "code",
      "metadata": {
        "id": "PGYSvg2gK5KW",
        "colab_type": "code",
        "colab": {
          "base_uri": "https://localhost:8080/",
          "height": 300
        },
        "outputId": "f0289f7a-18c2-4ac9-fd20-73b372834f21"
      },
      "source": [
        "df = pd.read_csv('hiring.csv')\n",
        "df"
      ],
      "execution_count": 4,
      "outputs": [
        {
          "output_type": "execute_result",
          "data": {
            "text/html": [
              "<div>\n",
              "<style scoped>\n",
              "    .dataframe tbody tr th:only-of-type {\n",
              "        vertical-align: middle;\n",
              "    }\n",
              "\n",
              "    .dataframe tbody tr th {\n",
              "        vertical-align: top;\n",
              "    }\n",
              "\n",
              "    .dataframe thead th {\n",
              "        text-align: right;\n",
              "    }\n",
              "</style>\n",
              "<table border=\"1\" class=\"dataframe\">\n",
              "  <thead>\n",
              "    <tr style=\"text-align: right;\">\n",
              "      <th></th>\n",
              "      <th>experience</th>\n",
              "      <th>test_score(out of 10)</th>\n",
              "      <th>interview_score(out of 10)</th>\n",
              "      <th>salary($)</th>\n",
              "    </tr>\n",
              "  </thead>\n",
              "  <tbody>\n",
              "    <tr>\n",
              "      <th>0</th>\n",
              "      <td>NaN</td>\n",
              "      <td>8.0</td>\n",
              "      <td>9</td>\n",
              "      <td>50000</td>\n",
              "    </tr>\n",
              "    <tr>\n",
              "      <th>1</th>\n",
              "      <td>NaN</td>\n",
              "      <td>8.0</td>\n",
              "      <td>6</td>\n",
              "      <td>45000</td>\n",
              "    </tr>\n",
              "    <tr>\n",
              "      <th>2</th>\n",
              "      <td>five</td>\n",
              "      <td>6.0</td>\n",
              "      <td>7</td>\n",
              "      <td>60000</td>\n",
              "    </tr>\n",
              "    <tr>\n",
              "      <th>3</th>\n",
              "      <td>two</td>\n",
              "      <td>10.0</td>\n",
              "      <td>10</td>\n",
              "      <td>65000</td>\n",
              "    </tr>\n",
              "    <tr>\n",
              "      <th>4</th>\n",
              "      <td>seven</td>\n",
              "      <td>9.0</td>\n",
              "      <td>6</td>\n",
              "      <td>70000</td>\n",
              "    </tr>\n",
              "    <tr>\n",
              "      <th>5</th>\n",
              "      <td>three</td>\n",
              "      <td>7.0</td>\n",
              "      <td>10</td>\n",
              "      <td>62000</td>\n",
              "    </tr>\n",
              "    <tr>\n",
              "      <th>6</th>\n",
              "      <td>ten</td>\n",
              "      <td>NaN</td>\n",
              "      <td>7</td>\n",
              "      <td>72000</td>\n",
              "    </tr>\n",
              "    <tr>\n",
              "      <th>7</th>\n",
              "      <td>eleven</td>\n",
              "      <td>7.0</td>\n",
              "      <td>8</td>\n",
              "      <td>80000</td>\n",
              "    </tr>\n",
              "  </tbody>\n",
              "</table>\n",
              "</div>"
            ],
            "text/plain": [
              "  experience  test_score(out of 10)  interview_score(out of 10)  salary($)\n",
              "0        NaN                    8.0                           9      50000\n",
              "1        NaN                    8.0                           6      45000\n",
              "2       five                    6.0                           7      60000\n",
              "3        two                   10.0                          10      65000\n",
              "4      seven                    9.0                           6      70000\n",
              "5      three                    7.0                          10      62000\n",
              "6        ten                    NaN                           7      72000\n",
              "7     eleven                    7.0                           8      80000"
            ]
          },
          "metadata": {
            "tags": []
          },
          "execution_count": 4
        }
      ]
    },
    {
      "cell_type": "code",
      "metadata": {
        "id": "J6aUMYf5LDwN",
        "colab_type": "code",
        "colab": {
          "base_uri": "https://localhost:8080/",
          "height": 300
        },
        "outputId": "c91bd7b6-6dfc-4985-cd08-06825e279898"
      },
      "source": [
        "df[\"experience\"] = df[\"experience\"].fillna(\"zero\")\n",
        "df"
      ],
      "execution_count": 5,
      "outputs": [
        {
          "output_type": "execute_result",
          "data": {
            "text/html": [
              "<div>\n",
              "<style scoped>\n",
              "    .dataframe tbody tr th:only-of-type {\n",
              "        vertical-align: middle;\n",
              "    }\n",
              "\n",
              "    .dataframe tbody tr th {\n",
              "        vertical-align: top;\n",
              "    }\n",
              "\n",
              "    .dataframe thead th {\n",
              "        text-align: right;\n",
              "    }\n",
              "</style>\n",
              "<table border=\"1\" class=\"dataframe\">\n",
              "  <thead>\n",
              "    <tr style=\"text-align: right;\">\n",
              "      <th></th>\n",
              "      <th>experience</th>\n",
              "      <th>test_score(out of 10)</th>\n",
              "      <th>interview_score(out of 10)</th>\n",
              "      <th>salary($)</th>\n",
              "    </tr>\n",
              "  </thead>\n",
              "  <tbody>\n",
              "    <tr>\n",
              "      <th>0</th>\n",
              "      <td>zero</td>\n",
              "      <td>8.0</td>\n",
              "      <td>9</td>\n",
              "      <td>50000</td>\n",
              "    </tr>\n",
              "    <tr>\n",
              "      <th>1</th>\n",
              "      <td>zero</td>\n",
              "      <td>8.0</td>\n",
              "      <td>6</td>\n",
              "      <td>45000</td>\n",
              "    </tr>\n",
              "    <tr>\n",
              "      <th>2</th>\n",
              "      <td>five</td>\n",
              "      <td>6.0</td>\n",
              "      <td>7</td>\n",
              "      <td>60000</td>\n",
              "    </tr>\n",
              "    <tr>\n",
              "      <th>3</th>\n",
              "      <td>two</td>\n",
              "      <td>10.0</td>\n",
              "      <td>10</td>\n",
              "      <td>65000</td>\n",
              "    </tr>\n",
              "    <tr>\n",
              "      <th>4</th>\n",
              "      <td>seven</td>\n",
              "      <td>9.0</td>\n",
              "      <td>6</td>\n",
              "      <td>70000</td>\n",
              "    </tr>\n",
              "    <tr>\n",
              "      <th>5</th>\n",
              "      <td>three</td>\n",
              "      <td>7.0</td>\n",
              "      <td>10</td>\n",
              "      <td>62000</td>\n",
              "    </tr>\n",
              "    <tr>\n",
              "      <th>6</th>\n",
              "      <td>ten</td>\n",
              "      <td>NaN</td>\n",
              "      <td>7</td>\n",
              "      <td>72000</td>\n",
              "    </tr>\n",
              "    <tr>\n",
              "      <th>7</th>\n",
              "      <td>eleven</td>\n",
              "      <td>7.0</td>\n",
              "      <td>8</td>\n",
              "      <td>80000</td>\n",
              "    </tr>\n",
              "  </tbody>\n",
              "</table>\n",
              "</div>"
            ],
            "text/plain": [
              "  experience  test_score(out of 10)  interview_score(out of 10)  salary($)\n",
              "0       zero                    8.0                           9      50000\n",
              "1       zero                    8.0                           6      45000\n",
              "2       five                    6.0                           7      60000\n",
              "3        two                   10.0                          10      65000\n",
              "4      seven                    9.0                           6      70000\n",
              "5      three                    7.0                          10      62000\n",
              "6        ten                    NaN                           7      72000\n",
              "7     eleven                    7.0                           8      80000"
            ]
          },
          "metadata": {
            "tags": []
          },
          "execution_count": 5
        }
      ]
    },
    {
      "cell_type": "code",
      "metadata": {
        "id": "z1--L_pBLFgT",
        "colab_type": "code",
        "colab": {
          "base_uri": "https://localhost:8080/",
          "height": 300
        },
        "outputId": "7708afa1-772e-4d7a-fbf4-41b6cb746174"
      },
      "source": [
        "df[\"experience\"] = df[\"experience\"].apply(w2n.word_to_num)\n",
        "df"
      ],
      "execution_count": 6,
      "outputs": [
        {
          "output_type": "execute_result",
          "data": {
            "text/html": [
              "<div>\n",
              "<style scoped>\n",
              "    .dataframe tbody tr th:only-of-type {\n",
              "        vertical-align: middle;\n",
              "    }\n",
              "\n",
              "    .dataframe tbody tr th {\n",
              "        vertical-align: top;\n",
              "    }\n",
              "\n",
              "    .dataframe thead th {\n",
              "        text-align: right;\n",
              "    }\n",
              "</style>\n",
              "<table border=\"1\" class=\"dataframe\">\n",
              "  <thead>\n",
              "    <tr style=\"text-align: right;\">\n",
              "      <th></th>\n",
              "      <th>experience</th>\n",
              "      <th>test_score(out of 10)</th>\n",
              "      <th>interview_score(out of 10)</th>\n",
              "      <th>salary($)</th>\n",
              "    </tr>\n",
              "  </thead>\n",
              "  <tbody>\n",
              "    <tr>\n",
              "      <th>0</th>\n",
              "      <td>0</td>\n",
              "      <td>8.0</td>\n",
              "      <td>9</td>\n",
              "      <td>50000</td>\n",
              "    </tr>\n",
              "    <tr>\n",
              "      <th>1</th>\n",
              "      <td>0</td>\n",
              "      <td>8.0</td>\n",
              "      <td>6</td>\n",
              "      <td>45000</td>\n",
              "    </tr>\n",
              "    <tr>\n",
              "      <th>2</th>\n",
              "      <td>5</td>\n",
              "      <td>6.0</td>\n",
              "      <td>7</td>\n",
              "      <td>60000</td>\n",
              "    </tr>\n",
              "    <tr>\n",
              "      <th>3</th>\n",
              "      <td>2</td>\n",
              "      <td>10.0</td>\n",
              "      <td>10</td>\n",
              "      <td>65000</td>\n",
              "    </tr>\n",
              "    <tr>\n",
              "      <th>4</th>\n",
              "      <td>7</td>\n",
              "      <td>9.0</td>\n",
              "      <td>6</td>\n",
              "      <td>70000</td>\n",
              "    </tr>\n",
              "    <tr>\n",
              "      <th>5</th>\n",
              "      <td>3</td>\n",
              "      <td>7.0</td>\n",
              "      <td>10</td>\n",
              "      <td>62000</td>\n",
              "    </tr>\n",
              "    <tr>\n",
              "      <th>6</th>\n",
              "      <td>10</td>\n",
              "      <td>NaN</td>\n",
              "      <td>7</td>\n",
              "      <td>72000</td>\n",
              "    </tr>\n",
              "    <tr>\n",
              "      <th>7</th>\n",
              "      <td>11</td>\n",
              "      <td>7.0</td>\n",
              "      <td>8</td>\n",
              "      <td>80000</td>\n",
              "    </tr>\n",
              "  </tbody>\n",
              "</table>\n",
              "</div>"
            ],
            "text/plain": [
              "   experience  test_score(out of 10)  interview_score(out of 10)  salary($)\n",
              "0           0                    8.0                           9      50000\n",
              "1           0                    8.0                           6      45000\n",
              "2           5                    6.0                           7      60000\n",
              "3           2                   10.0                          10      65000\n",
              "4           7                    9.0                           6      70000\n",
              "5           3                    7.0                          10      62000\n",
              "6          10                    NaN                           7      72000\n",
              "7          11                    7.0                           8      80000"
            ]
          },
          "metadata": {
            "tags": []
          },
          "execution_count": 6
        }
      ]
    },
    {
      "cell_type": "code",
      "metadata": {
        "id": "S_6Z44MLLG4L",
        "colab_type": "code",
        "colab": {
          "base_uri": "https://localhost:8080/",
          "height": 35
        },
        "outputId": "41e514bc-bc0f-4278-a78f-433dd906c9d2"
      },
      "source": [
        "average_value = math.floor(df['test_score(out of 10)'].mean())\n",
        "average_value"
      ],
      "execution_count": 7,
      "outputs": [
        {
          "output_type": "execute_result",
          "data": {
            "text/plain": [
              "7"
            ]
          },
          "metadata": {
            "tags": []
          },
          "execution_count": 7
        }
      ]
    },
    {
      "cell_type": "code",
      "metadata": {
        "id": "4Yl3erpqLSMy",
        "colab_type": "code",
        "colab": {
          "base_uri": "https://localhost:8080/",
          "height": 300
        },
        "outputId": "bd6921d5-c905-4f31-cca1-81cad2b4e10a"
      },
      "source": [
        "df['test_score(out of 10)'] = df['test_score(out of 10)'].fillna(average_value)\n",
        "df"
      ],
      "execution_count": 8,
      "outputs": [
        {
          "output_type": "execute_result",
          "data": {
            "text/html": [
              "<div>\n",
              "<style scoped>\n",
              "    .dataframe tbody tr th:only-of-type {\n",
              "        vertical-align: middle;\n",
              "    }\n",
              "\n",
              "    .dataframe tbody tr th {\n",
              "        vertical-align: top;\n",
              "    }\n",
              "\n",
              "    .dataframe thead th {\n",
              "        text-align: right;\n",
              "    }\n",
              "</style>\n",
              "<table border=\"1\" class=\"dataframe\">\n",
              "  <thead>\n",
              "    <tr style=\"text-align: right;\">\n",
              "      <th></th>\n",
              "      <th>experience</th>\n",
              "      <th>test_score(out of 10)</th>\n",
              "      <th>interview_score(out of 10)</th>\n",
              "      <th>salary($)</th>\n",
              "    </tr>\n",
              "  </thead>\n",
              "  <tbody>\n",
              "    <tr>\n",
              "      <th>0</th>\n",
              "      <td>0</td>\n",
              "      <td>8.0</td>\n",
              "      <td>9</td>\n",
              "      <td>50000</td>\n",
              "    </tr>\n",
              "    <tr>\n",
              "      <th>1</th>\n",
              "      <td>0</td>\n",
              "      <td>8.0</td>\n",
              "      <td>6</td>\n",
              "      <td>45000</td>\n",
              "    </tr>\n",
              "    <tr>\n",
              "      <th>2</th>\n",
              "      <td>5</td>\n",
              "      <td>6.0</td>\n",
              "      <td>7</td>\n",
              "      <td>60000</td>\n",
              "    </tr>\n",
              "    <tr>\n",
              "      <th>3</th>\n",
              "      <td>2</td>\n",
              "      <td>10.0</td>\n",
              "      <td>10</td>\n",
              "      <td>65000</td>\n",
              "    </tr>\n",
              "    <tr>\n",
              "      <th>4</th>\n",
              "      <td>7</td>\n",
              "      <td>9.0</td>\n",
              "      <td>6</td>\n",
              "      <td>70000</td>\n",
              "    </tr>\n",
              "    <tr>\n",
              "      <th>5</th>\n",
              "      <td>3</td>\n",
              "      <td>7.0</td>\n",
              "      <td>10</td>\n",
              "      <td>62000</td>\n",
              "    </tr>\n",
              "    <tr>\n",
              "      <th>6</th>\n",
              "      <td>10</td>\n",
              "      <td>7.0</td>\n",
              "      <td>7</td>\n",
              "      <td>72000</td>\n",
              "    </tr>\n",
              "    <tr>\n",
              "      <th>7</th>\n",
              "      <td>11</td>\n",
              "      <td>7.0</td>\n",
              "      <td>8</td>\n",
              "      <td>80000</td>\n",
              "    </tr>\n",
              "  </tbody>\n",
              "</table>\n",
              "</div>"
            ],
            "text/plain": [
              "   experience  test_score(out of 10)  interview_score(out of 10)  salary($)\n",
              "0           0                    8.0                           9      50000\n",
              "1           0                    8.0                           6      45000\n",
              "2           5                    6.0                           7      60000\n",
              "3           2                   10.0                          10      65000\n",
              "4           7                    9.0                           6      70000\n",
              "5           3                    7.0                          10      62000\n",
              "6          10                    7.0                           7      72000\n",
              "7          11                    7.0                           8      80000"
            ]
          },
          "metadata": {
            "tags": []
          },
          "execution_count": 8
        }
      ]
    },
    {
      "cell_type": "code",
      "metadata": {
        "id": "aepV-_w5LTuT",
        "colab_type": "code",
        "colab": {}
      },
      "source": [
        "model = linear_model.LinearRegression()"
      ],
      "execution_count": 0,
      "outputs": []
    },
    {
      "cell_type": "code",
      "metadata": {
        "id": "CVYNF8alLVZl",
        "colab_type": "code",
        "colab": {
          "base_uri": "https://localhost:8080/",
          "height": 35
        },
        "outputId": "a6e0747a-eed1-459d-f4ed-1ae0607a7fd6"
      },
      "source": [
        "model.fit(df[['experience','test_score(out of 10)','interview_score(out of 10)']],df['salary($)'])"
      ],
      "execution_count": 10,
      "outputs": [
        {
          "output_type": "execute_result",
          "data": {
            "text/plain": [
              "LinearRegression(copy_X=True, fit_intercept=True, n_jobs=None, normalize=False)"
            ]
          },
          "metadata": {
            "tags": []
          },
          "execution_count": 10
        }
      ]
    },
    {
      "cell_type": "code",
      "metadata": {
        "id": "4-nes9KsLW3b",
        "colab_type": "code",
        "colab": {
          "base_uri": "https://localhost:8080/",
          "height": 35
        },
        "outputId": "ce1474af-a0c3-4480-c28a-3c843b1ae615"
      },
      "source": [
        "model.coef_"
      ],
      "execution_count": 11,
      "outputs": [
        {
          "output_type": "execute_result",
          "data": {
            "text/plain": [
              "array([2922.26901502, 2221.30909959, 2147.48256637])"
            ]
          },
          "metadata": {
            "tags": []
          },
          "execution_count": 11
        }
      ]
    },
    {
      "cell_type": "code",
      "metadata": {
        "id": "gHpWNJZZLYb9",
        "colab_type": "code",
        "colab": {
          "base_uri": "https://localhost:8080/",
          "height": 35
        },
        "outputId": "829795ad-2cec-4e98-e065-fb9753c61fdc"
      },
      "source": [
        "model.intercept_"
      ],
      "execution_count": 12,
      "outputs": [
        {
          "output_type": "execute_result",
          "data": {
            "text/plain": [
              "14992.651446693148"
            ]
          },
          "metadata": {
            "tags": []
          },
          "execution_count": 12
        }
      ]
    },
    {
      "cell_type": "code",
      "metadata": {
        "id": "ojkE6Aa0LZ8t",
        "colab_type": "code",
        "colab": {
          "base_uri": "https://localhost:8080/",
          "height": 35
        },
        "outputId": "04d4d37d-4a11-4506-afc9-8b5fda7cfdd9"
      },
      "source": [
        "model.predict([[12,10,10]])"
      ],
      "execution_count": 13,
      "outputs": [
        {
          "output_type": "execute_result",
          "data": {
            "text/plain": [
              "array([93747.79628651])"
            ]
          },
          "metadata": {
            "tags": []
          },
          "execution_count": 13
        }
      ]
    },
    {
      "cell_type": "code",
      "metadata": {
        "id": "R_THvOELLbv8",
        "colab_type": "code",
        "colab": {
          "base_uri": "https://localhost:8080/",
          "height": 35
        },
        "outputId": "521accfa-ad38-4f37-a8cc-4e6a75ba55b1"
      },
      "source": [
        "model.predict([[2,9,6]])"
      ],
      "execution_count": 14,
      "outputs": [
        {
          "output_type": "execute_result",
          "data": {
            "text/plain": [
              "array([53713.86677124])"
            ]
          },
          "metadata": {
            "tags": []
          },
          "execution_count": 14
        }
      ]
    },
    {
      "cell_type": "code",
      "metadata": {
        "id": "71ixP6jeLdfs",
        "colab_type": "code",
        "colab": {}
      },
      "source": [
        ""
      ],
      "execution_count": 0,
      "outputs": []
    }
  ]
}